{
 "cells": [
  {
   "cell_type": "code",
   "execution_count": 2,
   "metadata": {},
   "outputs": [
    {
     "name": "stdout",
     "output_type": "stream",
     "text": [
      "Whole array:\n",
      " [[ 0.05  0.1   0.01  0.99]\n",
      " [ 0.06  0.12  0.02  0.83]]\n",
      "Type of array: <class 'numpy.ndarray'>\n",
      "Shape of array (rows, columns): (2, 4)\n",
      "Number of rows: 2\n",
      "Number of columns: 4\n",
      "First two columns:\n",
      "[[ 0.05  0.1 ]\n",
      " [ 0.06  0.12]]\n",
      "Last two columns:\n",
      "[[ 0.01  0.99]\n",
      " [ 0.02  0.83]]\n",
      "Value in row=1, column=3 (indexing starts with 0): 0.83\n"
     ]
    }
   ],
   "source": [
    "'''\n",
    "Practical examples on how to manipulate with numpy array in Python 3.\n",
    "'''\n",
    "\n",
    "import numpy as np\n",
    "\n",
    "dataset = np.array([[0.05, 0.1, 0.01, 0.99], [0.06, 0.12, 0.02, 0.83]])\n",
    "print(\"Whole array:\\n\", dataset)\n",
    "print(\"Type of array:\", type(dataset))\n",
    "shape = dataset.shape\n",
    "print(\"Shape of array (rows, columns):\", shape)\n",
    "print(\"Number of rows:\", shape[0])\n",
    "print(\"Number of columns:\", shape[1])\n",
    "\n",
    "#first two columns:\n",
    "print(\"First two columns:\")\n",
    "inputs = dataset[:,:2]\n",
    "print(inputs)\n",
    "\n",
    "#remaining columns from 3rd (including):\n",
    "targets = dataset[:,2:]\n",
    "print(\"Last two columns:\")\n",
    "print(targets)\n",
    "\n",
    "val_1_3 = dataset[1,3]\n",
    "print(\"Value in row=1, column=3 (indexing starts with 0):\", val_1_3)"
   ]
  }
 ],
 "metadata": {
  "kernelspec": {
   "display_name": "Python 3",
   "language": "python",
   "name": "python3"
  },
  "language_info": {
   "codemirror_mode": {
    "name": "ipython",
    "version": 3
   },
   "file_extension": ".py",
   "mimetype": "text/x-python",
   "name": "python",
   "nbconvert_exporter": "python",
   "pygments_lexer": "ipython3",
   "version": "3.4.3"
  }
 },
 "nbformat": 4,
 "nbformat_minor": 2
}
